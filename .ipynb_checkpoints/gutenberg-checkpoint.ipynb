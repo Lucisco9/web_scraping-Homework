{
 "cells": [
  {
   "cell_type": "code",
   "execution_count": null,
   "id": "9a4daeb5",
   "metadata": {
    "scrolled": true
   },
   "outputs": [],
   "source": [
    "import os\n",
    "import requests\n",
    "from bs4 import BeautifulSoup\n",
    "from fake_useragent import UserAgent\n",
    "import re\n",
    "from time import sleep\n",
    "\n",
    "ua = UserAgent(use_external_data=True)\n",
    "headers = {\n",
    "    'user-agent': ua.random\n",
    "}\n",
    "\n",
    "\n",
    "url = 'https://www.gutenberg.org/browse/languages/zh'\n",
    "res = requests.get(url)\n",
    "soup = BeautifulSoup(res.text, 'lxml')\n",
    "\n",
    "folderPath = './txt_2/'\n",
    "if not os.path.exists(folderPath):\n",
    "    os.makedirs(folderPath)\n",
    "\n",
    "\n",
    "urlhead = \"https://www.gutenberg.org\"\n",
    "book_element = soup.select('li.pgdbetext > a')\n",
    "count = 0\n",
    "book_name_and_links = {}\n",
    "try:\n",
    "#第一層\n",
    "    for a in book_element:\n",
    "        pageLinks =urlhead + a['href']\n",
    "        bookNames= a.text\n",
    "\n",
    "        if re.search(r'[\\u4E00-\\u9FFF]',bookNames):\n",
    "            book_name_and_links[bookNames] = pageLinks\n",
    "\n",
    "#第二層\n",
    "\n",
    "    for bookName, pageLink in book_name_and_links.items():\n",
    "        dl_res = requests.get(pageLink)\n",
    "        dl_soup = BeautifulSoup(dl_res.text, 'lxml')\n",
    "        dl_element = dl_soup.select(\"td.unpadded.icon_save > a\")\n",
    "        \n",
    "        for a in dl_element:\n",
    "            dl_link = urlhead + a['href']\n",
    "            end_ext = os.path.splitext(dl_link)[-1]\n",
    "\n",
    "            if end_ext == \".txt\": #只抓txt\n",
    "                file_name = f\"{folderPath}/{bookName}.txt\"\n",
    "                count += 1 \n",
    "\n",
    "                #如果連線中斷後重新開始抓可以用這個判斷抓過的就跳過\n",
    "                if os.path.isfile(file_name):\n",
    "                    print(f\"[{count}]{bookName}已存在，跳過下載\")\n",
    "\n",
    "                else:\n",
    "                    response = requests.get(dl_link)\n",
    "                    content = response.content.decode('utf-8')\n",
    "\n",
    "                    if re.search(r'[\\u4E00-\\u9FFF]', content):\n",
    "                        content = re.sub(r'[^\\u4e00-\\u9fff，。！？、；：‘’“”（）【】《》『』「」—\\r\\n\\s]+', '', content)\n",
    "                        content = re.split(r'[\\r\\n]+', content)\n",
    "                        content = '\\n'.join([line.strip() for line in content if line.strip()])\n",
    "                        with open(f\"{folderPath}/{bookName}.txt\", 'w', encoding='utf-8') as f:\n",
    "                                f.write(content)\n",
    "                                print(f\"[{count}]{bookName} 下載中...\")\n",
    "\n",
    "        print(f'已完成下載數量：{count}') \n",
    "except:\n",
    "    print(f\"[{count}]{bookName}下載失敗\")\n",
    "\n",
    "\n",
    "    "
   ]
  },
  {
   "cell_type": "code",
   "execution_count": null,
   "id": "f3bb66e5",
   "metadata": {},
   "outputs": [],
   "source": [
    "a = len( os.listdir(folderPath))\n",
    "print(a)"
   ]
  },
  {
   "cell_type": "code",
   "execution_count": null,
   "id": "532faf92",
   "metadata": {},
   "outputs": [],
   "source": []
  }
 ],
 "metadata": {
  "kernelspec": {
   "display_name": "Python 3 (ipykernel)",
   "language": "python",
   "name": "python3"
  },
  "language_info": {
   "codemirror_mode": {
    "name": "ipython",
    "version": 3
   },
   "file_extension": ".py",
   "mimetype": "text/x-python",
   "name": "python",
   "nbconvert_exporter": "python",
   "pygments_lexer": "ipython3",
   "version": "3.10.10"
  }
 },
 "nbformat": 4,
 "nbformat_minor": 5
}
