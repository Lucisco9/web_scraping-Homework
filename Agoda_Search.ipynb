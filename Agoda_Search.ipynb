{
 "cells": [
  {
   "cell_type": "code",
   "execution_count": 15,
   "id": "f14877bd",
   "metadata": {},
   "outputs": [],
   "source": [
    "from selenium import webdriver\n",
    "from selenium.webdriver.chrome.service import Service\n",
    "from webdriver_manager.chrome import ChromeDriverManager\n",
    "from selenium.common.exceptions import TimeoutException\n",
    "from selenium.webdriver.common.by import By\n",
    "from selenium.webdriver.common.action_chains import ActionChains\n",
    "from selenium.webdriver.common.keys import Keys\n",
    "from selenium.webdriver.support.ui import WebDriverWait\n",
    "from selenium.webdriver.support import expected_conditions as EC\n",
    "from selenium.webdriver.support.ui import Select\n",
    "from fake_useragent import UserAgent\n",
    "from selenium.webdriver.common.keys import Keys\n",
    "from time import sleep\n",
    "\n",
    "my_options = webdriver.ChromeOptions()\n",
    "# my_options.add_argument(\"--headless\")                #不開啟實體瀏覽器背景執行\n",
    "my_options.add_argument(\"--start-maximized\")         #最大化視窗\n",
    "my_options.add_argument(\"--incognito\")               #開啟無痕模式\n",
    "my_options.add_argument(\"--disable-popup-blocking\") #禁用彈出攔截\n",
    "my_options.add_argument(\"--disable-notifications\")  #取消通知\n",
    "\n",
    "ua = UserAgent(use_external_data=True)\n",
    "headers = {\n",
    "    'user-agent': ua.random\n",
    "}\n",
    "\n",
    "driver = webdriver.Chrome(\n",
    "    options = my_options,\n",
    "    service = Service(ChromeDriverManager().install())\n",
    ")\n",
    "driver.get('https://www.agoda.com/zh-tw/')\n",
    "wait = WebDriverWait(driver, 10)\n",
    "ac = ActionChains(driver)\n",
    "\n",
    "location=\"大阪\"\n",
    "startDate='2023-08-16'\n",
    "endDate='2023-08-21'\n",
    "\n",
    "#先跳過彈出式廣告\n",
    "\n",
    "wait.until(EC.visibility_of_element_located((By.XPATH, \".//button[@class='ab-close-button']\")))\n",
    "close_btn = driver.find_element(By.XPATH, \".//button[@class='ab-close-button']\")\n",
    "close_btn.click()\n",
    "\n",
    "locate = driver.find_element(By.ID,\"textInput\")\n",
    "locate.send_keys(location)\n",
    "wait.until(EC.visibility_of_element_located((By.XPATH, './/li[@class=\"Suggestion Suggestion__categoryName\"]')))\n",
    "scroll = driver.find_element(By.XPATH, './/li[@class=\"Suggestion Suggestion__categoryName\"]')\n",
    "scroll.click()\n",
    "\n",
    "sleep(1)\n",
    "\n",
    "#ckinBox = driver.find_element(By.XPATH, '//div[@data-element-name=\"check-in-box\"]')\n",
    "#ckinBox.click()\n",
    "\n",
    "sel_Month = driver.find_element(By.XPATH, '//span[@data-selenium=\"calendar-next-month-button\"]')\n",
    "sel_Month.click()\n",
    "sel_Month.click()\n",
    "\n",
    "sel_startDate= driver.find_element(By.XPATH, f'//span[@data-selenium-date=\"{startDate}\"]')\n",
    "sel_startDate.click()\n",
    "\n",
    "sleep(1)\n",
    "\n",
    "# ckoutBox = driver.find_element(By.XPATH, '//div[@data-element-name=\"check-out-box\"]')\n",
    "# ckoutBox.click()\n",
    "                                                            \n",
    "sel_endDate= driver.find_element(By.XPATH, f'//span[@data-selenium-date=\"{endDate}\"]')\n",
    "sel_endDate.click()\n",
    "\n",
    "sleep(1)\n",
    "\n",
    "finish_filter=driver.find_element(By.XPATH, '//i[@class=\"ficon ficon ficon-12 ficon-thin-arrow-down\"]')\n",
    "finish_filter.click()\n",
    "\n",
    "search = driver.find_element(By.XPATH, '//div[@class=\"Box-sc-kv6pi1-0 hRUYUu TabContent__Search--button\"]')\n",
    "search.click()\n"
   ]
  },
  {
   "cell_type": "code",
   "execution_count": 16,
   "id": "32cbf109",
   "metadata": {},
   "outputs": [],
   "source": [
    "driver.quit()"
   ]
  },
  {
   "cell_type": "code",
   "execution_count": null,
   "id": "04f2c9b3",
   "metadata": {},
   "outputs": [],
   "source": []
  },
  {
   "cell_type": "code",
   "execution_count": 92,
   "id": "c06e4eaf",
   "metadata": {},
   "outputs": [],
   "source": []
  },
  {
   "cell_type": "code",
   "execution_count": 94,
   "id": "776f8d67",
   "metadata": {},
   "outputs": [],
   "source": []
  },
  {
   "cell_type": "code",
   "execution_count": null,
   "id": "d9b4cedd",
   "metadata": {},
   "outputs": [],
   "source": []
  },
  {
   "cell_type": "code",
   "execution_count": null,
   "id": "0d2494fb",
   "metadata": {},
   "outputs": [],
   "source": []
  },
  {
   "cell_type": "code",
   "execution_count": null,
   "id": "830524ef",
   "metadata": {},
   "outputs": [],
   "source": []
  },
  {
   "cell_type": "code",
   "execution_count": null,
   "id": "093ec4ad",
   "metadata": {},
   "outputs": [],
   "source": []
  },
  {
   "cell_type": "code",
   "execution_count": null,
   "id": "9b9cd49b",
   "metadata": {},
   "outputs": [],
   "source": [
    "#增加房間\n",
    "# sel_room = driver.find_element(By.XPATH, '//div[@data-element-name=\"occupancy-selector-panel-rooms\"]')\n",
    "# add_room = driver.find_element(By.XPATH, '//div[@data-selenium=\"plus\"]')\n",
    "# add_room.click()\n",
    "\n"
   ]
  },
  {
   "cell_type": "code",
   "execution_count": null,
   "id": "e94f1ddd",
   "metadata": {},
   "outputs": [],
   "source": [
    "#減少房間\n",
    "# sel_room = driver.find_element(By.XPATH, '//div[@data-element-name=\"occupancy-selector-panel-rooms\"]')\n",
    "# less_room = driver.find_element(By.XPATH, '//div[@data-selenium=\"minus\"]')\n",
    "# less_room.click()\n",
    "\n"
   ]
  },
  {
   "cell_type": "code",
   "execution_count": null,
   "id": "9933a905",
   "metadata": {},
   "outputs": [],
   "source": [
    "#增加大人\n",
    "# sel_adult = driver.find_element(By.XPATH,xs '//div[@data-element-name=\"occupancy-selector-panel-adult\"]')\n",
    "# add_adult = driver.find_element(By.XPATH, '//div[@data-selenium=\"plus\"]')\n",
    "# add_adult.click()\n"
   ]
  },
  {
   "cell_type": "code",
   "execution_count": null,
   "id": "e466fae7",
   "metadata": {},
   "outputs": [],
   "source": [
    "#減少大人\n",
    "# sel_adult = driver.find_element(By.XPATH, '//div[@data-element-name=\"occupancy-selector-panel-adult\"]')\n",
    "# less_adult = driver.find_element(By.XPATH, '//div[@data-selenium=\"minus\"]')\n",
    "# less_adult.click()"
   ]
  },
  {
   "cell_type": "code",
   "execution_count": null,
   "id": "2aeb6f7e",
   "metadata": {},
   "outputs": [],
   "source": [
    "\n",
    "\n"
   ]
  },
  {
   "cell_type": "code",
   "execution_count": null,
   "id": "e5275e78",
   "metadata": {},
   "outputs": [],
   "source": []
  },
  {
   "cell_type": "code",
   "execution_count": null,
   "id": "90150ed2",
   "metadata": {},
   "outputs": [],
   "source": []
  },
  {
   "cell_type": "code",
   "execution_count": null,
   "id": "1b332218",
   "metadata": {},
   "outputs": [],
   "source": []
  },
  {
   "cell_type": "code",
   "execution_count": null,
   "id": "33f642c6",
   "metadata": {},
   "outputs": [],
   "source": []
  }
 ],
 "metadata": {
  "kernelspec": {
   "display_name": "Python 3 (ipykernel)",
   "language": "python",
   "name": "python3"
  },
  "language_info": {
   "codemirror_mode": {
    "name": "ipython",
    "version": 3
   },
   "file_extension": ".py",
   "mimetype": "text/x-python",
   "name": "python",
   "nbconvert_exporter": "python",
   "pygments_lexer": "ipython3",
   "version": "3.10.11"
  }
 },
 "nbformat": 4,
 "nbformat_minor": 5
}
